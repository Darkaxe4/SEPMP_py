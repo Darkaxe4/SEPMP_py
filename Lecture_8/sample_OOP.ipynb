{
 "cells": [
  {
   "attachments": {},
   "cell_type": "markdown",
   "metadata": {},
   "source": [
    "Напишем простейшую игру с применением принципов объектно-ориентированного программирования \n"
   ]
  },
  {
   "cell_type": "code",
   "execution_count": 32,
   "metadata": {},
   "outputs": [],
   "source": [
    "class cell:\n",
    "    def __init__(self):\n",
    "        self.isBusy = False\n",
    "        self.figure = None\n",
    "        # ссылки на соседние клетки\n",
    "        self.up, self.down, self.left, self.right = [None] * 4\n",
    "\n",
    "    def setBusy(self, figure: str):\n",
    "        self.isBusy = True\n",
    "        self.figure = figure\n",
    "\n",
    "    def checkHorizontal(self, figure):\n",
    "        if self.figure != figure:\n",
    "            return 0\n",
    "        if (self.right is None):\n",
    "            return 1\n",
    "        return self.right.checkHorizontal(figure) + 1\n",
    "    \n",
    "    def checkVertical(self, figure):\n",
    "        if self.figure != figure:\n",
    "            return 0\n",
    "        if (self.down is None):\n",
    "            return 1\n",
    "        return self.down.checkVertical(figure) + 1\n",
    "\n",
    "    def checkDiagonal(self, figure):\n",
    "        if self.figure != figure:\n",
    "            return 0\n",
    "        if (self.right is None) or (self.down is None):\n",
    "            return 1\n",
    "        return self.right.down.checkDiagonal(figure) + 1\n",
    "    \n",
    "    def checkSubDiagonal(self, figure):\n",
    "        if self.figure != figure:\n",
    "            return 0\n",
    "        if (self.right is None) or (self.up is None):\n",
    "            return 1\n",
    "        return self.right.up.checkSubDiagonal(figure) + 1\n",
    "\n",
    "\n",
    "    def __str__(self):\n",
    "        if self.isBusy:\n",
    "            return self.figure\n",
    "        else:\n",
    "            return ' '"
   ]
  },
  {
   "cell_type": "code",
   "execution_count": 33,
   "metadata": {},
   "outputs": [],
   "source": [
    "class Field:\n",
    "    def __init__(self, HorFieldSize: int, VertFieldSize: int):\n",
    "        self.hSize, self.vSize = HorFieldSize, VertFieldSize\n",
    "        self.cells = [[cell() for _ in range(HorFieldSize)] for _ in range(VertFieldSize)]\n",
    "        for i in range(self.vSize):\n",
    "            for j in range(self.hSize):\n",
    "                if i != 0:\n",
    "                    self.cells[i][j].up = self.cells[i - 1][j]\n",
    "                if j != 0:\n",
    "                    self.cells[i][j].left = self.cells[i][j - 1]\n",
    "                if i != self.vSize - 1:\n",
    "                    self.cells[i][j].down = self.cells[i + 1][j]\n",
    "                if j != self.hSize - 1:\n",
    "                    self.cells[i][j].right = self.cells[i][j + 1]\n",
    "\n",
    "    def setup(self):\n",
    "        for row in self.cells:\n",
    "            for cell in row:\n",
    "                cell.isBusy = False\n",
    "                cell.figure = None\n",
    "    \n",
    "    def __str__(self):\n",
    "        result = '\\t'.join([str(i) for i in range(self.hSize + 1)]) + \"\\n\"\n",
    "        for i in range(1, self.vSize + 1):\n",
    "            result += str(i) + '\\t' + '\\t'.join([str(self.cells[i - 1][j]) for j in range(self.hSize)]) + '\\n'\n",
    "        return result\n",
    "\n",
    "    def setCell(self, row: int, column: int, figure: str):\n",
    "        self.cells[row - 1][column - 1].setBusy(figure)"
   ]
  },
  {
   "cell_type": "code",
   "execution_count": 34,
   "metadata": {},
   "outputs": [
    {
     "name": "stdout",
     "output_type": "stream",
     "text": [
      "0\t1\t2\t3\n",
      "1\t \t \t \n",
      "2\t \t \t \n",
      "3\t \t \t \n",
      "\n"
     ]
    }
   ],
   "source": [
    "F_1 = Field(3, 3)\n",
    "print(F_1)"
   ]
  },
  {
   "cell_type": "code",
   "execution_count": 35,
   "metadata": {},
   "outputs": [
    {
     "name": "stdout",
     "output_type": "stream",
     "text": [
      "0\t1\t2\t3\n",
      "1\to\tx\to\n",
      "2\tx\tx\to\n",
      "3\to\tx\to\n",
      "\n"
     ]
    }
   ],
   "source": [
    "import random\n",
    "figs = ('o', 'x')\n",
    "\n",
    "for i in range(1, 4):\n",
    "    for j in range(1, 4):\n",
    "        F_1.setCell(i, j, random.choice(figs))\n",
    "print(F_1)"
   ]
  },
  {
   "cell_type": "code",
   "execution_count": 36,
   "metadata": {},
   "outputs": [],
   "source": [
    "class Controller:\n",
    "    def __init__(self, size = 3, UserFig = \"x\", AIfig = 'o'):\n",
    "        self.field = Field(size, size)\n",
    "        self.userFigure = UserFig\n",
    "        self.aiFigure = AIfig\n",
    "        self.emptyCellCount = size * size\n",
    "    \n",
    "    def mainLoop(self):\n",
    "        while self.emptyCellCount > 0:\n",
    "            self.getUserInput()\n",
    "            self.AIInput()\n",
    "            print(self.field)\n",
    "            self.emptyCellCount -= 2\n",
    "            if self.checkWin(self.userFigure):\n",
    "                print('You win!')\n",
    "                self.field.setup()\n",
    "                self.emptyCellCount = 0\n",
    "            if self.checkWin(self.aiFigure):\n",
    "                print('You lose!')\n",
    "                self.field.setup\n",
    "                self.emptyCellCount = 0\n",
    "\n",
    "        print('Draw!')\n",
    "        \n",
    "\n",
    "    \n",
    "    def checkWin(self, figure = 'x'):\n",
    "        hor, vert, diag_1, diag_2 = [0] * 4\n",
    "        for rows in self.field.cells:\n",
    "            for cell in rows:\n",
    "                hor = cell.checkHorizontal(figure)\n",
    "                vert = cell.checkVertical(figure)\n",
    "                diag_1 = cell.checkDiagonal(figure)\n",
    "                diag_2 = cell.checkSubDiagonal(figure)\n",
    "        winCount = min(self.field.hSize, self.field.vSize)\n",
    "        if any(map(lambda x: x == winCount, (hor, vert, diag_1, diag_2))):\n",
    "            return True\n",
    "        else:\n",
    "            return False\n",
    "        \n",
    "\n",
    "    def getUserInput(self):\n",
    "        flag = True\n",
    "        while flag:\n",
    "            row, column = map(int, input(\"Input a move in format ROW:COLUMN\\n\").strip().split(':'))\n",
    "            if self.field.cells[row - 1][column - 1].isBusy:\n",
    "                print(f'The {row}:{column} cell is busy!')\n",
    "            else:\n",
    "                self.field.setCell(row, column, self.userFigure)\n",
    "                flag = False\n",
    "        return\n",
    "    \n",
    "    def AIInput(self):\n",
    "        AICell = random.choice(random.choice(self.field.cells))\n",
    "        while AICell.isBusy:\n",
    "            AICell = random.choice(random.choice(self.field.cells))\n",
    "        AICell.setBusy(self.aiFigure)\n",
    "        return"
   ]
  },
  {
   "cell_type": "code",
   "execution_count": 37,
   "metadata": {},
   "outputs": [
    {
     "name": "stdout",
     "output_type": "stream",
     "text": [
      "0\t1\t2\t3\n",
      "1\tx\to\t \n",
      "2\t \t \t \n",
      "3\t \t \t \n",
      "\n",
      "0\t1\t2\t3\n",
      "1\tx\to\t \n",
      "2\t \tx\t \n",
      "3\to\t \t \n",
      "\n",
      "0\t1\t2\t3\n",
      "1\tx\to\t \n",
      "2\t \tx\to\n",
      "3\to\t \tx\n",
      "\n",
      "The 2:2 cell is busy!\n",
      "0\t1\t2\t3\n",
      "1\tx\to\t \n",
      "2\tx\tx\to\n",
      "3\to\to\tx\n",
      "\n"
     ]
    },
    {
     "ename": "ValueError",
     "evalue": "invalid literal for int() with base 10: ''",
     "output_type": "error",
     "traceback": [
      "\u001b[1;31m---------------------------------------------------------------------------\u001b[0m",
      "\u001b[1;31mValueError\u001b[0m                                Traceback (most recent call last)",
      "Cell \u001b[1;32mIn[37], line 1\u001b[0m\n\u001b[1;32m----> 1\u001b[0m Controller()\u001b[39m.\u001b[39;49mmainLoop()\n",
      "Cell \u001b[1;32mIn[36], line 10\u001b[0m, in \u001b[0;36mController.mainLoop\u001b[1;34m(self)\u001b[0m\n\u001b[0;32m      8\u001b[0m \u001b[39mdef\u001b[39;00m \u001b[39mmainLoop\u001b[39m(\u001b[39mself\u001b[39m):\n\u001b[0;32m      9\u001b[0m     \u001b[39mwhile\u001b[39;00m \u001b[39mself\u001b[39m\u001b[39m.\u001b[39memptyCellCount \u001b[39m!=\u001b[39m \u001b[39m0\u001b[39m:\n\u001b[1;32m---> 10\u001b[0m         \u001b[39mself\u001b[39;49m\u001b[39m.\u001b[39;49mgetUserInput()\n\u001b[0;32m     11\u001b[0m         \u001b[39mself\u001b[39m\u001b[39m.\u001b[39mAIInput()\n\u001b[0;32m     12\u001b[0m         \u001b[39mprint\u001b[39m(\u001b[39mself\u001b[39m\u001b[39m.\u001b[39mfield)\n",
      "Cell \u001b[1;32mIn[36], line 45\u001b[0m, in \u001b[0;36mController.getUserInput\u001b[1;34m(self)\u001b[0m\n\u001b[0;32m     43\u001b[0m flag \u001b[39m=\u001b[39m \u001b[39mTrue\u001b[39;00m\n\u001b[0;32m     44\u001b[0m \u001b[39mwhile\u001b[39;00m flag:\n\u001b[1;32m---> 45\u001b[0m     row, column \u001b[39m=\u001b[39m \u001b[39mmap\u001b[39m(\u001b[39mint\u001b[39m, \u001b[39minput\u001b[39m(\u001b[39m\"\u001b[39m\u001b[39mInput a move in format ROW:COLUMN\u001b[39m\u001b[39m\\n\u001b[39;00m\u001b[39m\"\u001b[39m)\u001b[39m.\u001b[39mstrip()\u001b[39m.\u001b[39msplit(\u001b[39m'\u001b[39m\u001b[39m:\u001b[39m\u001b[39m'\u001b[39m))\n\u001b[0;32m     46\u001b[0m     \u001b[39mif\u001b[39;00m \u001b[39mself\u001b[39m\u001b[39m.\u001b[39mfield\u001b[39m.\u001b[39mcells[row \u001b[39m-\u001b[39m \u001b[39m1\u001b[39m][column \u001b[39m-\u001b[39m \u001b[39m1\u001b[39m]\u001b[39m.\u001b[39misBusy:\n\u001b[0;32m     47\u001b[0m         \u001b[39mprint\u001b[39m(\u001b[39mf\u001b[39m\u001b[39m'\u001b[39m\u001b[39mThe \u001b[39m\u001b[39m{\u001b[39;00mrow\u001b[39m}\u001b[39;00m\u001b[39m:\u001b[39m\u001b[39m{\u001b[39;00mcolumn\u001b[39m}\u001b[39;00m\u001b[39m cell is busy!\u001b[39m\u001b[39m'\u001b[39m)\n",
      "\u001b[1;31mValueError\u001b[0m: invalid literal for int() with base 10: ''"
     ]
    }
   ],
   "source": [
    "Controller().mainLoop()"
   ]
  }
 ],
 "metadata": {
  "kernelspec": {
   "display_name": "Python 3",
   "language": "python",
   "name": "python3"
  },
  "language_info": {
   "codemirror_mode": {
    "name": "ipython",
    "version": 3
   },
   "file_extension": ".py",
   "mimetype": "text/x-python",
   "name": "python",
   "nbconvert_exporter": "python",
   "pygments_lexer": "ipython3",
   "version": "3.10.11"
  },
  "orig_nbformat": 4
 },
 "nbformat": 4,
 "nbformat_minor": 2
}
